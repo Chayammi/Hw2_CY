{
 "cells": [
  {
   "cell_type": "markdown",
   "metadata": {
    "Collapsed": "false"
   },
   "source": [
    "# Homework 2 Part 2: Charbel Yammine\n",
    "\n",
    "The second portion of Homework 2."
   ]
  },
  {
   "cell_type": "markdown",
   "metadata": {
    "Collapsed": "false"
   },
   "source": [
    "## Preliminaries"
   ]
  },
  {
   "cell_type": "code",
   "execution_count": 1,
   "metadata": {
    "Collapsed": "false"
   },
   "outputs": [],
   "source": [
    "# To auto-reload modules in jupyter notebook (so that changes in files *.py doesn't require manual reloading):\n",
    "# https://stackoverflow.com/questions/5364050/reloading-submodules-in-ipython\n",
    "%load_ext autoreload\n",
    "%autoreload 2"
   ]
  },
  {
   "cell_type": "markdown",
   "metadata": {
    "Collapsed": "false"
   },
   "source": [
    "Import commonly used libraries and magic command for inline plotting"
   ]
  },
  {
   "cell_type": "code",
   "execution_count": 2,
   "metadata": {
    "Collapsed": "false"
   },
   "outputs": [],
   "source": [
    "import numpy as np\n",
    "import pandas as pd\n",
    "import matplotlib.pyplot as plt\n",
    "import seaborn as sns\n",
    "\n",
    "import os\n",
    "\n",
    "from openpyxl import Workbook, load_workbook\n",
    "from openpyxl.utils.dataframe import dataframe_to_rows\n",
    "from openpyxl.styles import Alignment\n",
    "from openpyxl.utils import get_column_letter"
   ]
  },
  {
   "cell_type": "code",
   "execution_count": 3,
   "metadata": {},
   "outputs": [],
   "source": [
    "%matplotlib inline"
   ]
  },
  {
   "cell_type": "markdown",
   "metadata": {
    "Collapsed": "false"
   },
   "source": [
    "## Work\n",
    "\n",
    "This is where work gets done."
   ]
  },
  {
   "cell_type": "code",
   "execution_count": 4,
   "metadata": {
    "Collapsed": "false"
   },
   "outputs": [],
   "source": [
    "import os\n",
    "from openpyxl import Workbook, load_workbook\n",
    "from openpyxl.utils import get_column_letter\n",
    "from openpyxl.styles import Alignment\n",
    "import pandas as pd\n",
    "\n",
    "# Step 1: Combine all CSV files into a single Excel workbook\n",
    "folder_path = \"logs\"\n",
    "output_filename = \"BCM.xlsx\"\n",
    "\n",
    "# Create a new workbook\n",
    "workbook = Workbook()\n",
    "workbook.remove(workbook.active)\n",
    "\n",
    "# Get a list of all CSV files in the folder\n",
    "csv_files = [file for file in os.listdir(folder_path) if file.endswith(\".csv\")]\n",
    "\n",
    "# Initialize min_date and max_date variables\n",
    "min_date = None\n",
    "max_date = None\n",
    "\n",
    "# Iterate over each CSV file\n",
    "for csv_file in csv_files:\n",
    "    # Read the CSV file into a DataFrame\n",
    "    file_path = os.path.join(folder_path, csv_file)\n",
    "    sheet_name = os.path.splitext(csv_file)[0]\n",
    "    df = pd.read_csv(file_path, header=None, names=[\"datetime\", \"scale\", \"temperature\"])\n",
    "\n",
    "    # Determine min_date and max_date from the DataFrame\n",
    "    current_min_date = df[\"datetime\"].min()\n",
    "    current_max_date = df[\"datetime\"].max()\n",
    "\n",
    "    # Update min_date and max_date if necessary\n",
    "    if min_date is None or current_min_date < min_date:\n",
    "        min_date = current_min_date\n",
    "    if max_date is None or current_max_date > max_date:\n",
    "        max_date = current_max_date\n",
    "\n",
    "    # Create a new worksheet in the workbook\n",
    "    worksheet = workbook.create_sheet(sheet_name)\n",
    "\n",
    "    # Write the column headers to the worksheet\n",
    "    headers = [\"datetime\", \"scale\", \"temperature\"]\n",
    "    worksheet.append(headers)\n",
    "\n",
    "    # Write the data from the DataFrame to the worksheet\n",
    "    for row in dataframe_to_rows(df, index=False, header=False):\n",
    "        worksheet.append(row)\n",
    "\n",
    "# Save the workbook\n",
    "workbook.save(output_filename)\n",
    "\n",
    "\n",
    "# Step 2: Add formulas to each sheet\n",
    "workbook = load_workbook(output_filename)  # Use load_workbook function\n",
    "\n",
    "# Iterate over each sheet in the workbook\n",
    "for sheet_name in workbook.sheetnames:\n",
    "    worksheet = workbook[sheet_name]\n",
    "\n",
    "    # Get the last row with data\n",
    "    last_row = worksheet.max_row\n",
    "\n",
    "    # Add labels for minimum, maximum, and average temperature in column G\n",
    "    labels = [\"Minimum\", \"Maximum\", \"Average\"]\n",
    "    for i, label in enumerate(labels, start=2):\n",
    "        cell = worksheet.cell(row=i, column=7)\n",
    "        cell.value = label\n",
    "        cell.alignment = Alignment(horizontal=\"right\")\n",
    "\n",
    "    # Add formulas for minimum, maximum, and average temperature in column H\n",
    "    column_letter = get_column_letter(8)  # Get the letter for column H\n",
    "    for i, column in enumerate([\"C\", \"C\", \"C\"], start=2):\n",
    "        formula_min = f\"=MIN({column}2:{column}{last_row})\"\n",
    "        formula_max = f\"=MAX({column}2:{column}{last_row})\"\n",
    "        formula_avg = f\"=AVERAGE({column}2:{column}{last_row})\"\n",
    "        for j, formula in enumerate([formula_min, formula_max, formula_avg], start=2):\n",
    "            cell = worksheet.cell(row=j, column=8)\n",
    "            cell.value = formula\n",
    "            cell.alignment = Alignment(horizontal=\"right\")\n",
    "            cell.number_format = '0.00'\n",
    "\n",
    "    # Add formulas for minimum and maximum datetime in column H\n",
    "    formula_min_datetime = f\"=MIN(A2:A{last_row})\"\n",
    "    formula_max_datetime = f\"=MAX(A2:A{last_row})\"\n",
    "    worksheet.cell(row=6, column=8).value = formula_min_datetime\n",
    "    worksheet.cell(row=7, column=8).value = formula_max_datetime\n",
    "    worksheet.cell(row=6, column=7).value = \"Min Datetime\"\n",
    "    worksheet.cell(row=7, column=7).value = \"Max Datetime\"\n",
    "    worksheet.cell(row=6, column=7).alignment = Alignment(horizontal=\"right\")\n",
    "    worksheet.cell(row=7, column=7).alignment = Alignment(horizontal=\"right\")\n",
    "\n",
    "    # Apply formatting to column H\n",
    "    for row in worksheet[f\"{column_letter}2:{column_letter}4\"]:\n",
    "        for cell in row:\n",
    "            cell.number_format = '0.00'\n",
    "\n",
    "    # Update the formulas for minimum and maximum datetime with the determined min_date and max_date\n",
    "    worksheet.cell(row=6, column=8).value = min_date\n",
    "    worksheet.cell(row=7, column=8).value = max_date\n",
    "\n",
    "# Save the modified workbook\n",
    "workbook.save(output_filename)\n"
   ]
  }
 ],
 "metadata": {
  "kernelspec": {
   "display_name": "Python 3 (ipykernel)",
   "language": "python",
   "name": "python3"
  },
  "language_info": {
   "codemirror_mode": {
    "name": "ipython",
    "version": 3
   },
   "file_extension": ".py",
   "mimetype": "text/x-python",
   "name": "python",
   "nbconvert_exporter": "python",
   "pygments_lexer": "ipython3",
   "version": "3.11.3"
  },
  "toc-autonumbering": true
 },
 "nbformat": 4,
 "nbformat_minor": 4
}
